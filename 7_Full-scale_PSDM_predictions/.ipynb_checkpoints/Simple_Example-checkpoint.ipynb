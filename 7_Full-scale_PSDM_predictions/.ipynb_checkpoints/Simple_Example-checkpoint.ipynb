{
 "cells": [
  {
   "cell_type": "markdown",
   "id": "50ed16ac-f34f-455e-8ad5-9cd320db3308",
   "metadata": {
    "tags": []
   },
   "source": [
    "# Simple Example of using the Pore and Surface Diffusion Model (PSDM)\n",
    "\n",
    "Originally developed by Michigan Technological University, coded in Python by US Environmental Protection Agency\n",
    "\n",
    "This can be used to model granular activated carbon (GAC) systems."
   ]
  },
  {
   "cell_type": "code",
   "execution_count": 1,
   "id": "57c9e228-7344-45ec-87c2-21a54dfec490",
   "metadata": {
    "tags": []
   },
   "outputs": [
    {
     "name": "stdout",
     "output_type": "stream",
     "text": [
      "//Mathieu: self calculated b1 =  PFHpA    0.43565\n",
      "dtype: float64\n",
      "//Mathieu: self calculated b2 =  PFHpA    0.360309\n",
      "dtype: float64\n"
     ]
    }
   ],
   "source": [
    "## Import Required Packages\n",
    "import warnings\n",
    "warnings.simplefilter(\"ignore\")\n",
    "\n",
    "import numpy as np\n",
    "import pandas as pd\n",
    "import pylab as plt\n",
    "\n",
    "import os\n",
    "srt_dir = os.getcwd()\n",
    "\n",
    "import PSDM\n",
    "os.chdir(srt_dir)"
   ]
  },
  {
   "cell_type": "markdown",
   "id": "e55d2a38-1e9c-4b36-aa17-117574cc1488",
   "metadata": {},
   "source": [
    "## Files\n",
    "\n",
    "This example uses \"Example_TCE.xlsx\" as its input file. \n",
    "\n",
    "Sheet \"Properties\" has chemical properties of compounds you wish to model. You can have more compounds in your Properties sheet than the model needs, so it may be helpful to create a standard sheet for numerous projects. \n",
    "\n",
    "Sheet \"Kdata\" has K [(ug/g)(L/ug)^(1/n)] & 1/n (unitless) information. 'brk' stores the days to complete breakthrough. 'q' is solid phase concentration (ug/g). 'AveC' is the average concentration (ug/L). This information can be calculated by the model for fitting data, but this provides a mechanism for storing/inputing these values for some simulations. \n",
    "\n",
    "Sheet \"data\" has a data structure for ['type', 'time', 'concentration', 'compound']. Where type corresponds to where samples were taken (e.g., 'influent', 'effluent'). 'Time' is numeric and should the maximum value determines the lengh of simulations (The units of 'Time' are listed in the \"columnSpecs\" sheet). 'Concentration' units are also listed in \"columnSpecs\". 'Compounds' should match those in \"Properties\", and should provide information for both influent and effluent data. \n",
    "\n",
    "Sheet \"columnSpecs\" has column information. \n",
    "\n",
    "An example of reading in these sheets is shown below.\n",
    "\n"
   ]
  },
  {
   "cell_type": "code",
   "execution_count": 2,
   "id": "e116ffb6-b910-4a27-bc2d-1635444b9e59",
   "metadata": {
    "tags": []
   },
   "outputs": [],
   "source": [
    "# =============================================================================\n",
    "# Define the File to analyze\n",
    "# can be in different folder, must be explicit for file location or can \n",
    "# use referential convention '../data/filename.xlsx' or 'C:/folders.../filename'\n",
    "# =============================================================================\n",
    "fn = 'Example_PFHpA_1.xlsx'\n",
    "\n",
    "# =============================================================================\n",
    "# READ IN Chemical Property Information\n",
    "# may need to change location of file, depending on where it is stored locally\n",
    "# properties are included in 'fn' from above, but can be separate file as well\n",
    "# =============================================================================\n",
    "chem_data = PSDM.process_input_data(fn, sheet_name='Properties') \n",
    "k_data = pd.read_excel(fn, sheet_name='Kdata',index_col=0) # K & 1/n data\n",
    "\n",
    "# =============================================================================\n",
    "# Read in Input File\n",
    "# Can change location of data_sheet= and column_sheet= to match file naming\n",
    "# =============================================================================\n",
    "raw_data, column_info,\\\n",
    "compounds, carbons, = PSDM.process_input_file(fn,\\\n",
    "                                               data_sheet='data',\\\n",
    "                                               column_sheet='columnSpecs'\n",
    "                                              )"
   ]
  },
  {
   "cell_type": "markdown",
   "id": "2752f733-f320-4f70-9ff8-078aa2530332",
   "metadata": {},
   "source": [
    "# Example 1: Simple, no fouling\n",
    "\n",
    "    chem_type = 'halogenated alkenes' #omitted, see Example 2 for how to use\n",
    "    water_type = 'Organic Free'       #omitted, see Example 2 for how to use\n",
    "    nr = radial collocation points\n",
    "    nz = axial collocation points\n",
    "    k_data = pandas dataframe containing K & 1/n data (ug/g)(L/ug)^(1/n) expected"
   ]
  },
  {
   "cell_type": "code",
   "execution_count": null,
   "id": "ef1775d7-4b3b-44ea-b2c3-9e263b61f568",
   "metadata": {
    "tags": []
   },
   "outputs": [],
   "source": [
    "for comp in compounds:\n",
    "    print(comp)\n",
    "    \n",
    "    # SETTING UP PSDM simulation column\n",
    "    column = PSDM.PSDM(column_info[carbons[0]], \n",
    "                   chem_data, \n",
    "                   raw_data,\n",
    "                   nr=8,\n",
    "                   nz=12, \n",
    "                   k_data=k_data,\\\n",
    "                   optimize=False\n",
    "                   )\n",
    "    \n",
    "    print('EBCT: ', np.round(column.ebct, 2), ' min') \n",
    "    column.test_range = np.array([k_data[comp]['K']]) \n",
    "    column.xn_range = np.array([k_data[comp]['1/n']])\n",
    "    \n",
    "    # RUNNING the simulation\n",
    "    # only results is used in this example\n",
    "    _compound, _k, _xn, _ssqs, results = column.run_psdm_kfit(comp)\n",
    "    \n",
    "    ### plotting results \n",
    "    # units are converted from ug/L to mg/L \n",
    "    plt.plot(results.index, \n",
    "             results.values/1000., \n",
    "             label='PSDM')\n",
    "    (raw_data[column.influent][comp]/1000.).plot.line(label='influent',linestyle=':')\n",
    "    \n",
    "    # Plot Labels, etc.\n",
    "    plt.legend()\n",
    "    plt.title(comp+'\\nK: '+repr(round(_k,2))+' ($\\mu$g/g)(L/$\\mu$g)$^{1/n}$ - 1/n: '+repr(round(_xn,3)))\n",
    "    plt.xlabel(column_info[carbons[0]]['time'])\n",
    "    plt.ylabel('Concentration - mg/L (ppm)')\n",
    "    plt.savefig(comp+'_'+carbons[0]+'_example1.png', dpi=300)\n",
    "    \n",
    "    \n",
    "    tab2 = 'model-'+comp\n",
    "    ## Set up file to write output\n",
    "    with pd.ExcelWriter('Example_TCE_' + carbons[0] + '_example1.xlsx') as writer:\n",
    "        results.to_excel(writer, sheet_name=tab2)\n",
    "\n"
   ]
  },
  {
   "cell_type": "code",
   "execution_count": 4,
   "id": "e779d2fd-c1d6-4f63-942d-7fe72cbda32f",
   "metadata": {
    "tags": []
   },
   "outputs": [
    {
     "data": {
      "text/plain": [
       "Trichloroethylene    3.229310e-09\n",
       "dtype: float64"
      ]
     },
     "execution_count": 4,
     "metadata": {},
     "output_type": "execute_result"
    }
   ],
   "source": [
    "column.psdm_Ds"
   ]
  },
  {
   "cell_type": "markdown",
   "id": "9828b4db-ee04-4855-b9ff-88c094c3d4bc",
   "metadata": {},
   "source": [
    "## Example 1a - Changing influent concentration programmatically  & Changing EBCT"
   ]
  },
  {
   "cell_type": "code",
   "execution_count": null,
   "id": "f241a3ea-c70d-4dcf-9562-962d3c9a1f61",
   "metadata": {
    "tags": []
   },
   "outputs": [],
   "source": [
    "raw_data2 = raw_data.copy()              # create a copy of the raw data dataframe \n",
    "column_info2 = column_info[carbons[0]].copy()   # makes copy to change flowrate\n",
    "## change the concentration associated with the 'influent' column\n",
    "raw_data2[column.influent] = 5000        # 5ppm, rather than 50 ppm in original file\n",
    "\n"
   ]
  },
  {
   "cell_type": "code",
   "execution_count": null,
   "id": "ba2d9404-0a87-4543-a860-f3fb0a177082",
   "metadata": {
    "tags": []
   },
   "outputs": [],
   "source": [
    "for comp in compounds:\n",
    "    print(comp)\n",
    "    \n",
    "    # SETTING UP PSDM simulation column\n",
    "    column = PSDM.PSDM(column_info[carbons[0]], \n",
    "                   chem_data, \n",
    "                   raw_data2,\n",
    "                   nr=8,\n",
    "                   nz=12, \n",
    "                   k_data=k_data,\\\n",
    "                   optimize=False\n",
    "                   )\n",
    "    \n",
    "    print('EBCT: ', np.round(column.ebct, 2), ' min') \n",
    "    column.test_range = np.array([k_data[comp]['K']])\n",
    "    column.xn_range = np.array([k_data[comp]['1/n']])\n",
    "    \n",
    "    # RUNNING the simulation\n",
    "    #only results is used in this example\n",
    "    _compound, _k, _xn, _ssqs, results = column.run_psdm_kfit(comp)\n",
    "    \n",
    "    # Change Flowrate, which changes EBCT, and rerun simulation\n",
    "    column_info2['flrt'] = column_info[carbons[0]]['flrt'] * 1.5 # internal units are mL/min, this just multiplies by 1.5\n",
    "    column2 = PSDM.PSDM(column_info2, \n",
    "                   chem_data, \n",
    "                   raw_data2,\n",
    "                   nr=8,\n",
    "                   nz=12, \n",
    "                   k_data=k_data,\\\n",
    "                   optimize=False\n",
    "                   )\n",
    "    \n",
    "    print('EBCT: ', np.round(column2.ebct, 2), ' min') \n",
    "    column2.test_range = np.array([k_data[comp]['K']])\n",
    "    column2.xn_range = np.array([k_data[comp]['1/n']])\n",
    "    _compound, _k, _xn, _ssqs, results2 = column2.run_psdm_kfit(comp)\n",
    "\n",
    "    \n",
    "    ### Plotting results \n",
    "    # plot results for 1st EBCT\n",
    "    plt.plot(results.index, \n",
    "             results.values/1000., \n",
    "             label='EBCT: '+repr(np.round(column.ebct,2)))\n",
    "    # plot results for 2nd EBCT\n",
    "    plt.plot(results2.index, \n",
    "             results2.values/1000., \n",
    "             label='EBCT: '+repr(np.round(column2.ebct,2)))\n",
    "    (raw_data2[column.influent][comp]/1000.).plot.line(label='influent',linestyle=':')\n",
    "    \n",
    "    # Plot Labels, etc.\n",
    "    plt.legend()\n",
    "    plt.title(comp+'\\nK: '+repr(round(_k,2))+' ($\\mu$g/g)(L/$\\mu$g)$^{1/n}$ - 1/n: '+repr(round(_xn,3)))\n",
    "    plt.xlabel(column_info[carbons[0]]['time'])\n",
    "    plt.ylabel('Concentration - mg/L (ppm)')\n",
    "    plt.savefig(comp+'_'+carbons[0]+'_example1a.png', dpi=300)\n",
    "    \n",
    "    tab2 = 'model-'+comp\n",
    "    with pd.ExcelWriter('Example_TCE_' + carbons[0] + '_example1a.xlsx') as writer:\n",
    "        results.to_excel(writer, sheet_name=tab2)\n",
    "    \n"
   ]
  },
  {
   "cell_type": "markdown",
   "id": "da8c27dc-a6a0-4580-b524-93b340db3efd",
   "metadata": {},
   "source": [
    "\n",
    "# Example 2 - Variable influent\n",
    "\n",
    "Variable influent data stored in \"data_variable\" sheet. Must reload info.\n",
    "k_data didn't change, so will be reused from Example 1\n"
   ]
  },
  {
   "cell_type": "code",
   "execution_count": 3,
   "id": "c2ba1f5b-b5ae-4e16-b74b-a8ebb5b2bca9",
   "metadata": {
    "tags": []
   },
   "outputs": [],
   "source": [
    "raw_data, column_info,\\\n",
    "compounds, carbons, = PSDM.process_input_file(fn,\\\n",
    "                                               data_sheet='data_variable',\\\n",
    "                                               column_sheet='columnSpecs'\n",
    "                                              )\n",
    "## User can look at raw_data to see new variable influent, or \n",
    "## see \"data_variable\" sheet\n"
   ]
  },
  {
   "cell_type": "code",
   "execution_count": 4,
   "id": "fe83de48-85ce-445a-9b96-dc17ca5edffd",
   "metadata": {
    "tags": []
   },
   "outputs": [
    {
     "name": "stdout",
     "output_type": "stream",
     "text": [
      "PFHpA\n",
      "//Mathieu self.chem_type:  halogenated alkenes\n",
      "//Mathieu: fouling parameters:\n",
      "a1:  1.0\n",
      "a2:  0.0\n",
      "a3:  0.0\n",
      "a4:  0.0\n",
      "b1:  PFHpA    1.0\n",
      "dtype: float64\n",
      "b2:  PFHpA    0.0\n",
      "dtype: float64\n",
      "rk1:  PFHpA    1.0\n",
      "dtype: float64\n",
      "rk2:  PFHpA    0.0\n",
      "dtype: float64\n",
      "rk3:  PFHpA    0.0\n",
      "dtype: float64\n",
      "rk4:  PFHpA    0.0\n",
      "dtype: float64\n",
      "//Mathieu: k_mult_pd:  [1. 1. 1. 1. 1.]  ...\n",
      "EBCT:  9.88  min\n",
      "//Mathieu self.chem_type:  PFAS\n",
      "//Mathieu: fouling parameters:\n",
      "a1:  0.35\n",
      "a2:  -6.15e-08\n",
      "a3:  0.65\n",
      "a4:  -8.93e-05\n",
      "b1:  PFHpA    0.43565\n",
      "dtype: float64\n",
      "b2:  PFHpA    0.360309\n",
      "dtype: float64\n",
      "rk1:  PFHpA    0.512787\n",
      "dtype: float64\n",
      "rk2:  PFHpA   -2.679248e-08\n",
      "dtype: float64\n",
      "rk3:  PFHpA    0.283173\n",
      "dtype: float64\n",
      "rk4:  PFHpA   -0.000039\n",
      "dtype: float64\n",
      "//Mathieu: k_mult_pd:  [0.79595906 0.73885526 0.69320457 0.65670365 0.62751237]  ...\n",
      "//Mathieu self.chem_type:  Fouling alternative (15%)\n",
      "//Mathieu: % bed weight reduction:  15\n",
      "//Mathieu: you want alternative fouling calculation:\n",
      "//Mathieu: fouling parameters:\n",
      "a1:  1.0\n",
      "a2:  0.0\n",
      "a3:  0.0\n",
      "a4:  0.0\n",
      "b1:  PFHpA    1.0\n",
      "dtype: float64\n",
      "b2:  PFHpA    0.0\n",
      "dtype: float64\n",
      "rk1:  PFHpA    1.0\n",
      "dtype: float64\n",
      "rk2:  PFHpA    0.0\n",
      "dtype: float64\n",
      "rk3:  PFHpA    0.0\n",
      "dtype: float64\n",
      "rk4:  PFHpA    0.0\n",
      "dtype: float64\n",
      "//Mathieu: k_mult_pd:  [1. 1. 1. 1. 1.]  ...\n"
     ]
    },
    {
     "data": {
      "image/png": "[encoded data removed]",
      "text/plain": [
       "<Figure size 640x480 with 1 Axes>"
      ]
     },
     "metadata": {},
     "output_type": "display_data"
    },
    {
     "data": {
      "image/png": "[encoded data removed]",
      "text/plain": [
       "<Figure size 640x480 with 1 Axes>"
      ]
     },
     "metadata": {},
     "output_type": "display_data"
    }
   ],
   "source": [
    "#//Mathieu: alternative fouling calculation:\n",
    "chem_type1 = 'PFAS'\n",
    "water_type1 = 'Rhine'\n",
    "\n",
    "chem_type2 = 'Fouling alternative (15%)'\n",
    "water_type2 = 'Fouling alternative (15%)'\n",
    "\n",
    "#note additional inputs in definition of column, below.\n",
    "\n",
    "for comp in compounds:\n",
    "    print(comp)\n",
    "    \n",
    "    # SETTING UP PSDM simulation column\n",
    "    column = PSDM.PSDM(column_info[carbons[0]], \n",
    "                   chem_data, \n",
    "                   raw_data,\n",
    "                   nr=8,\n",
    "                   nz=12, \n",
    "                   k_data=k_data,\n",
    "                   optimize=False\n",
    "                   )\n",
    "    \n",
    "    print('EBCT: ', round(column.ebct, 2), ' min') \n",
    "    column.test_range = np.array([k_data[comp]['K']])\n",
    "    column.xn_range = np.array([k_data[comp]['1/n']])\n",
    "    \n",
    "    # RUNNING the simulation\n",
    "    #only results is used in this example\n",
    "    _compound, _k, _xn, _ssqs, results = column.run_psdm_kfit(comp)\n",
    "    \n",
    "    column2 = PSDM.PSDM(column_info[carbons[0]], \n",
    "                   chem_data, \n",
    "                   raw_data,\n",
    "                   nr=8,\n",
    "                   nz=12, \n",
    "                   k_data=k_data,\n",
    "                   chem_type=chem_type1,\n",
    "                   water_type=water_type1,\n",
    "                   optimize=False\n",
    "                   )\n",
    "    \n",
    "    column2.test_range = np.array([k_data[comp]['K']])\n",
    "    column2.xn_range = np.array([k_data[comp]['1/n']])\n",
    "    \n",
    "    # RUNNING the simulation\n",
    "    #only results is used in this example\n",
    "    _compound, _k, _xn, _ssqs, results2 = column2.run_psdm_kfit(comp)\n",
    "    \n",
    "    column3 = PSDM.PSDM(column_info[carbons[0]], \n",
    "                   chem_data, \n",
    "                   raw_data,\n",
    "                   nr=8,\n",
    "                   nz=12, \n",
    "                   k_data=k_data,\n",
    "                   chem_type=chem_type2,\n",
    "                   water_type=water_type2,\n",
    "                   optimize=False\n",
    "                   )\n",
    "    \n",
    "    column3.test_range = np.array([k_data[comp]['K']])\n",
    "    column3.xn_range = np.array([k_data[comp]['1/n']])\n",
    "    \n",
    "    # RUNNING the simulation\n",
    "    #only results is used in this example\n",
    "    _compound, _k, _xn, _ssqs, results3 = column3.run_psdm_kfit(comp)    \n",
    "    \n",
    "    ## plotting results \n",
    "    #units are converted from ug/L to mg/L \n",
    "    plt.plot(results.index, \n",
    "             results.values/1000., \n",
    "             label='PSDM-No fouling')\n",
    "    plt.plot(results2.index, \n",
    "             results2.values/1000., \n",
    "             label='PSDM-With fouling ('+water_type1+')')\n",
    "    plt.plot(results3.index, \n",
    "             results3.values/1000., \n",
    "             label='PSDM-'+water_type2,\n",
    "             color='red')    \n",
    "    (raw_data[column.influent][comp]/1000.).plot.line(label='Influent',linestyle=':',color='green')\n",
    "    \n",
    "    # Plot Labels, etc.\n",
    "    plt.legend()\n",
    "    plt.title(comp+'\\nK: '+repr(round(_k,2))+' ($\\mu$g/g)(L/$\\mu$g)$^{1/n}$ - 1/n: '+repr(round(_xn,3)))\n",
    "    plt.xlabel(column_info[carbons[0]]['time'])\n",
    "    plt.ylabel('Concentration - mg/L (ppm)')\n",
    "    plt.savefig(comp+'_'+carbons[0]+'_example2.png', dpi=300)\n",
    "    plt.show\n",
    "    \n",
    "    plt.figure()\n",
    "    plt.plot(column.K_time, \n",
    "             column.K_new_time, \n",
    "             label='No fouling',\n",
    "             linewidth=4)\n",
    "    plt.plot(column2.K_time, \n",
    "             column2.K_new_time,\n",
    "             label='With fouling ('+water_type1+')',\n",
    "             color='darkorange')    \n",
    "    plt.plot(column3.K_time, \n",
    "             column3.K_new_time,\n",
    "             label=water_type2,\n",
    "             color='red')\n",
    "    \n",
    "    plt.legend()\n",
    "    plt.title('Freundlich K reduction as a function of time')  # Title of the plot\n",
    "    plt.xlabel('Time')  # Label for the x-axis\n",
    "    plt.ylabel('Freundlich K reduciton (Kt/K0)')  # Label for the y-axis    \n",
    "    plt.grid(False)  # Disable grid\n",
    "    plt.show()  # Display the plot    \n",
    "    \n",
    "    tab2 = 'model-'+comp\n",
    "    \n",
    "    with pd.ExcelWriter('Example_TCE_' + carbons[0] + '_example2.xlsx') as writer:\n",
    "        results.to_excel(writer, sheet_name=tab2)\n",
    "\n"
   ]
  },
  {
   "cell_type": "code",
   "execution_count": 5,
   "id": "1e00d9b6-64e6-4341-b3ac-a7e65c66b398",
   "metadata": {
    "tags": []
   },
   "outputs": [
    {
     "data": {
      "text/plain": [
       "('halogenated alkenes', 'PFAS', 'halogenated alkenes')"
      ]
     },
     "execution_count": 5,
     "metadata": {},
     "output_type": "execute_result"
    }
   ],
   "source": [
    "column.chem_type,column2.chem_type,column3.chem_type"
   ]
  },
  {
   "cell_type": "code",
   "execution_count": 6,
   "id": "15189514-2041-48d4-9661-c8cc7f7146fb",
   "metadata": {
    "tags": []
   },
   "outputs": [
    {
     "data": {
      "text/plain": [
       "(4349.9508283000005, 4349.9508283000005, 3697.4582040550004)"
      ]
     },
     "execution_count": 6,
     "metadata": {},
     "output_type": "execute_result"
    }
   ],
   "source": [
    "column.wt,column2.wt,column3.wt"
   ]
  },
  {
   "cell_type": "code",
   "execution_count": 7,
   "id": "bb204afe-e0bd-4376-b343-6bebd3208dec",
   "metadata": {
    "tags": []
   },
   "outputs": [
    {
     "name": "stdout",
     "output_type": "stream",
     "text": [
      "123\n"
     ]
    }
   ],
   "source": [
    "import re\n",
    "\n",
    "# Example string\n",
    "s = \"There are 123% apples in the basket.\"\n",
    "\n",
    "# Regular expression to find numbers\n",
    "numbers = re.findall(r'\\d+', s)\n",
    "\n",
    "# Convert the first extracted number from string to integer\n",
    "if numbers:\n",
    "    number = int(numbers[0])\n",
    "    print(number)"
   ]
  },
  {
   "cell_type": "code",
   "execution_count": 9,
   "id": "e1330e54-3ca7-4f47-9c0f-3676c86919c9",
   "metadata": {
    "tags": []
   },
   "outputs": [
    {
     "data": {
      "text/html": [
       "<div>\n",
       "<style scoped>\n",
       "    .dataframe tbody tr th:only-of-type {\n",
       "        vertical-align: middle;\n",
       "    }\n",
       "\n",
       "    .dataframe tbody tr th {\n",
       "        vertical-align: top;\n",
       "    }\n",
       "\n",
       "    .dataframe thead th {\n",
       "        text-align: right;\n",
       "    }\n",
       "</style>\n",
       "<table border=\"1\" class=\"dataframe\">\n",
       "  <thead>\n",
       "    <tr style=\"text-align: right;\">\n",
       "      <th></th>\n",
       "      <th>PFHpA</th>\n",
       "    </tr>\n",
       "  </thead>\n",
       "  <tbody>\n",
       "    <tr>\n",
       "      <th>MW</th>\n",
       "      <td>364.060</td>\n",
       "    </tr>\n",
       "    <tr>\n",
       "      <th>MolarVol</th>\n",
       "      <td>203.158</td>\n",
       "    </tr>\n",
       "    <tr>\n",
       "      <th>BP</th>\n",
       "      <td>175.000</td>\n",
       "    </tr>\n",
       "    <tr>\n",
       "      <th>Density</th>\n",
       "      <td>1.792</td>\n",
       "    </tr>\n",
       "    <tr>\n",
       "      <th>Solubility</th>\n",
       "      <td>0.000</td>\n",
       "    </tr>\n",
       "    <tr>\n",
       "      <th>VaporPress</th>\n",
       "      <td>0.000</td>\n",
       "    </tr>\n",
       "    <tr>\n",
       "      <th>logKow</th>\n",
       "      <td>1.300</td>\n",
       "    </tr>\n",
       "    <tr>\n",
       "      <th>κ2</th>\n",
       "      <td>5.520</td>\n",
       "    </tr>\n",
       "    <tr>\n",
       "      <th>Nam</th>\n",
       "      <td>0.000</td>\n",
       "    </tr>\n",
       "    <tr>\n",
       "      <th>α</th>\n",
       "      <td>13.830</td>\n",
       "    </tr>\n",
       "    <tr>\n",
       "      <th>Dz(hybrid)</th>\n",
       "      <td>0.001</td>\n",
       "    </tr>\n",
       "  </tbody>\n",
       "</table>\n",
       "</div>"
      ],
      "text/plain": [
       "              PFHpA\n",
       "MW          364.060\n",
       "MolarVol    203.158\n",
       "BP          175.000\n",
       "Density       1.792\n",
       "Solubility    0.000\n",
       "VaporPress    0.000\n",
       "logKow        1.300\n",
       "κ2            5.520\n",
       "Nam           0.000\n",
       "α            13.830\n",
       "Dz(hybrid)    0.001"
      ]
     },
     "execution_count": 9,
     "metadata": {},
     "output_type": "execute_result"
    }
   ],
   "source": [
    "chem_data"
   ]
  },
  {
   "cell_type": "code",
   "execution_count": 10,
   "id": "01fd3899-5559-4d42-9ad8-7bb70f3140a3",
   "metadata": {
    "tags": []
   },
   "outputs": [
    {
     "data": {
      "text/html": [
       "<div>\n",
       "<style scoped>\n",
       "    .dataframe tbody tr th:only-of-type {\n",
       "        vertical-align: middle;\n",
       "    }\n",
       "\n",
       "    .dataframe tbody tr th {\n",
       "        vertical-align: top;\n",
       "    }\n",
       "\n",
       "    .dataframe thead th {\n",
       "        text-align: right;\n",
       "    }\n",
       "</style>\n",
       "<table border=\"1\" class=\"dataframe\">\n",
       "  <thead>\n",
       "    <tr style=\"text-align: right;\">\n",
       "      <th></th>\n",
       "      <th>F400</th>\n",
       "    </tr>\n",
       "  </thead>\n",
       "  <tbody>\n",
       "    <tr>\n",
       "      <th>rad</th>\n",
       "      <td>0.0513</td>\n",
       "    </tr>\n",
       "    <tr>\n",
       "      <th>flrt</th>\n",
       "      <td>984.207064</td>\n",
       "    </tr>\n",
       "    <tr>\n",
       "      <th>epor</th>\n",
       "      <td>0.641</td>\n",
       "    </tr>\n",
       "    <tr>\n",
       "      <th>psdfr</th>\n",
       "      <td>5.0</td>\n",
       "    </tr>\n",
       "    <tr>\n",
       "      <th>rhop</th>\n",
       "      <td>0.803</td>\n",
       "    </tr>\n",
       "    <tr>\n",
       "      <th>rhof</th>\n",
       "      <td>0.62</td>\n",
       "    </tr>\n",
       "    <tr>\n",
       "      <th>L</th>\n",
       "      <td>120.0</td>\n",
       "    </tr>\n",
       "    <tr>\n",
       "      <th>wt</th>\n",
       "      <td>4349.950828</td>\n",
       "    </tr>\n",
       "    <tr>\n",
       "      <th>diam</th>\n",
       "      <td>10.155936</td>\n",
       "    </tr>\n",
       "    <tr>\n",
       "      <th>tortu</th>\n",
       "      <td>1.0</td>\n",
       "    </tr>\n",
       "    <tr>\n",
       "      <th>influentID</th>\n",
       "      <td>influent</td>\n",
       "    </tr>\n",
       "    <tr>\n",
       "      <th>effluentID</th>\n",
       "      <td>effluent</td>\n",
       "    </tr>\n",
       "    <tr>\n",
       "      <th>units</th>\n",
       "      <td>ug</td>\n",
       "    </tr>\n",
       "    <tr>\n",
       "      <th>time</th>\n",
       "      <td>days</td>\n",
       "    </tr>\n",
       "    <tr>\n",
       "      <th>mass_mul</th>\n",
       "      <td>1.0</td>\n",
       "    </tr>\n",
       "    <tr>\n",
       "      <th>t_mult</th>\n",
       "      <td>1440</td>\n",
       "    </tr>\n",
       "    <tr>\n",
       "      <th>flow_mult</th>\n",
       "      <td>0.001</td>\n",
       "    </tr>\n",
       "    <tr>\n",
       "      <th>flow_type</th>\n",
       "      <td>ml</td>\n",
       "    </tr>\n",
       "  </tbody>\n",
       "</table>\n",
       "</div>"
      ],
      "text/plain": [
       "                   F400\n",
       "rad              0.0513\n",
       "flrt         984.207064\n",
       "epor              0.641\n",
       "psdfr               5.0\n",
       "rhop              0.803\n",
       "rhof               0.62\n",
       "L                 120.0\n",
       "wt          4349.950828\n",
       "diam          10.155936\n",
       "tortu               1.0\n",
       "influentID     influent\n",
       "effluentID     effluent\n",
       "units                ug\n",
       "time               days\n",
       "mass_mul            1.0\n",
       "t_mult             1440\n",
       "flow_mult         0.001\n",
       "flow_type            ml"
      ]
     },
     "execution_count": 10,
     "metadata": {},
     "output_type": "execute_result"
    }
   ],
   "source": [
    "column_info"
   ]
  },
  {
   "cell_type": "markdown",
   "id": "8ef08dd0-953c-47d2-9877-5a6829b65ecf",
   "metadata": {},
   "source": [
    "# Advanced Example\n",
    "\n",
    "Demonstrating Fitting Capabilities.\n",
    "\n",
    "Reloading all information for clarity.\n",
    "\n",
    "Using \"data_optimize\" sheet, which contains time series of effluent breakthrough."
   ]
  },
  {
   "cell_type": "code",
   "execution_count": 3,
   "id": "41e875a3-ca48-4cae-9b0f-3211fb97aafc",
   "metadata": {
    "tags": []
   },
   "outputs": [],
   "source": [
    "#reset files, just in case\n",
    "chem_data = PSDM.process_input_data(fn, sheet_name='Properties') \n",
    "k_data = pd.read_excel(fn, sheet_name='Kdata',index_col=0) # K & 1/n data\n",
    "\n",
    "\n",
    "raw_data, column_info,\\\n",
    "compounds, carbons, = PSDM.process_input_file(fn,\\\n",
    "                                               data_sheet='data_optimize',\\\n",
    "                                               column_sheet='columnSpecs'\n",
    "                                              )\n",
    "## note data_sheet is now 'data_optimize'\n",
    "\n",
    "chem_type = 'PFAS'\n",
    "water_type = 'Rhine'"
   ]
  },
  {
   "cell_type": "code",
   "execution_count": 4,
   "id": "df2da65a-b0ee-44e9-a28a-211823f59fca",
   "metadata": {
    "tags": []
   },
   "outputs": [
    {
     "name": "stdout",
     "output_type": "stream",
     "text": [
      "PFHpA\n",
      "//Mathieu: fouling parameters:\n",
      "a1:  0.35\n",
      "a2:  -6.15e-08\n",
      "a3:  0.65\n",
      "a4:  -8.93e-05\n",
      "b1:  PFHpA    0.43565\n",
      "dtype: float64\n",
      "b2:  PFHpA    0.360309\n",
      "dtype: float64\n",
      "rk1:  PFHpA    0.512787\n",
      "dtype: float64\n",
      "rk2:  PFHpA   -2.679248e-08\n",
      "dtype: float64\n",
      "rk3:  PFHpA    0.283173\n",
      "dtype: float64\n",
      "rk4:  PFHpA   -0.000039\n",
      "dtype: float64\n",
      "//Mathieu: k_mult_pd =  [0.79595906 0.73885526 0.69320457 0.65670365 0.62751237 0.60416069\n",
      " 0.58547419 0.57051466 0.55853256 0.5489291  0.5412259  0.5350408\n",
      " 0.5300685  0.52606508 0.5228357  0.52022468 0.51810767 0.51638532\n",
      " 0.51497825 0.51382306 0.51286909 0.51207588 0.51141109 0.5108489\n",
      " 0.51036868 0.50995393 0.5095915  0.50927086 0.5089836  0.50872301\n",
      " 0.50848374 0.50826148 0.50805283 0.50785504 0.50766592 0.50748375\n",
      " 0.50730711 0.5071349  0.50696622 0.50680036 0.50663677 0.50647497\n",
      " 0.50631462 0.50615542 0.50599713 0.50583958 0.50568262 0.50552612\n",
      " 0.50537    0.50521418 0.50505859 0.5049032  0.50474796 0.50459284\n",
      " 0.50443782 0.50428288 0.504128   0.50397317 0.50381838 0.50366362\n",
      " 0.50350888 0.50335417 0.50319947 0.50304479 0.50289011 0.50273544\n",
      " 0.50258078 0.50242613 0.50227148 0.50211683 0.50196219 0.50180754\n",
      " 0.5016529  0.50149826 0.50134363 0.50118899 0.50103435 0.50087972\n",
      " 0.50072508 0.50057045 0.50041581 0.50026118 0.50010654 0.49995191\n",
      " 0.49979727 0.49964264 0.499488   0.49933337 0.49917873 0.4990241\n",
      " 0.49886947 0.49871483 0.4985602  0.49840556 0.49825093 0.4980963\n",
      " 0.49794166 0.49778703 0.49763239 0.49747776 0.49732313 0.49716849\n",
      " 0.49701386 0.49685922 0.49670459 0.49654996 0.49639532 0.49624069\n",
      " 0.49608606 0.49593142 0.49577679 0.49562215 0.49546752 0.49531289\n",
      " 0.49515825 0.49500362 0.49484898 0.49469435 0.49453972 0.49438508\n",
      " 0.49423045 0.49407581 0.49392118 0.49376655 0.49361191 0.49345728\n",
      " 0.49330264 0.49314801 0.49299338 0.49283874 0.49268411 0.49252947\n",
      " 0.49237484 0.49222021 0.49206557 0.49191094 0.4917563  0.49160167\n",
      " 0.49144704 0.4912924  0.49113777 0.49098313 0.4908285  0.49067387\n",
      " 0.49051923 0.4903646  0.49020997 0.49005533 0.4899007  0.48974606\n",
      " 0.48959143 0.4894368  0.48928216 0.48912753 0.48897289 0.48881826\n",
      " 0.48866363 0.48850899 0.48835436 0.48819972 0.48804509 0.48789046\n",
      " 0.48773582 0.48758119 0.48742655 0.48727192 0.48711729 0.48696265\n",
      " 0.48680802 0.48665338 0.48649875 0.48634412 0.48618948 0.48603485\n",
      " 0.48588021 0.48572558 0.48557095 0.48541631 0.48526168 0.48510704\n",
      " 0.48495241 0.48479778 0.48464314 0.48448851 0.48433388 0.48417924\n",
      " 0.48402461 0.48386997 0.48371534 0.48356071 0.48340607 0.48325144\n",
      " 0.4830968  0.48294217 0.48278754 0.4826329  0.48247827 0.48232363\n",
      " 0.482169   0.48201437 0.48185973 0.4817051  0.48155046 0.48139583\n",
      " 0.4812412  0.48108656 0.48093193 0.48077729 0.48062266 0.48046803\n",
      " 0.48031339 0.48015876 0.48000412 0.47984949 0.47969486 0.47954022\n",
      " 0.47938559 0.47923096 0.47907632 0.47892169 0.47876705 0.47861242\n",
      " 0.47845779 0.47830315 0.47814852 0.47799388 0.47783925 0.47768462\n",
      " 0.47752998 0.47737535 0.47722071 0.47706608 0.47691145 0.47675681\n",
      " 0.47660218 0.47644754 0.47629291 0.47613828 0.47598364 0.47582901\n",
      " 0.47567437 0.47551974 0.47536511 0.47521047 0.47505584 0.4749012\n",
      " 0.47474657 0.47459194 0.4744373  0.47428267 0.47412803 0.4739734\n",
      " 0.47381877 0.47366413 0.4735095  0.47335487 0.47320023 0.4730456\n",
      " 0.47289096 0.47273633 0.4725817  0.47242706 0.47227243 0.47211779\n",
      " 0.47196316 0.47180853 0.47165389 0.47149926 0.47134462 0.47118999\n",
      " 0.47103536 0.47088072 0.47072609 0.47057145 0.47041682 0.47026219\n",
      " 0.47010755 0.46995292 0.46979828 0.46964365 0.46948902 0.46933438\n",
      " 0.46917975 0.46902511 0.46887048 0.46871585 0.46856121 0.46840658\n",
      " 0.46825194 0.46809731 0.46794268 0.46778804 0.46763341 0.46747878\n",
      " 0.46732414 0.46716951 0.46701487 0.46686024 0.46670561 0.46655097\n",
      " 0.46639634 0.4662417  0.46608707 0.46593244 0.4657778  0.46562317\n",
      " 0.46546853 0.4653139  0.46515927 0.46500463 0.46485    0.46469536\n",
      " 0.46454073 0.4643861  0.46423146 0.46407683 0.46392219 0.46376756\n",
      " 0.46361293 0.46345829 0.46330366 0.46314902 0.46299439 0.46283976\n",
      " 0.46268512 0.46253049 0.46237586 0.46222122 0.46206659 0.46191195\n",
      " 0.46175732 0.46160269 0.46144805 0.46129342 0.46113878 0.46098415\n",
      " 0.46082952 0.46067488 0.46052025 0.46036561 0.46021098 0.46005635\n",
      " 0.45990171 0.45974708 0.45959244 0.45943781 0.45928318 0.45912854\n",
      " 0.45897391 0.45881927 0.45866464 0.45851001 0.45835537 0.45820074\n",
      " 0.4580461  0.45789147 0.45773684 0.4575822  0.45742757 0.45727293\n",
      " 0.4571183  0.45696367 0.45680903 0.4566544  0.45649977 0.45634513\n",
      " 0.4561905  0.45603586 0.45588123 0.4557266  0.45557196 0.45541733\n",
      " 0.45526269 0.45510806 0.45495343 0.45479879 0.45464416 0.45448952\n",
      " 0.45433489 0.45418026 0.45402562 0.45387099 0.45371635 0.45356172\n",
      " 0.45340709 0.45325245 0.45309782 0.45294318 0.45278855 0.45263392\n",
      " 0.45247928 0.45232465 0.45217001 0.45201538 0.45186075 0.45170611\n",
      " 0.45155148 0.45139684 0.45124221 0.45108758 0.45093294 0.45077831\n",
      " 0.45062368 0.45046904 0.45031441 0.45015977 0.45000514 0.44985051\n",
      " 0.44969587 0.44954124 0.4493866  0.44923197 0.44907734 0.4489227\n",
      " 0.44876807 0.44861343 0.4484588  0.44830417 0.44814953 0.4479949\n",
      " 0.44784026 0.44768563 0.447531   0.44737636 0.44722173 0.44706709\n",
      " 0.44691246 0.44675783 0.44660319 0.44644856 0.44629392 0.44613929\n",
      " 0.44598466 0.44583002 0.44567539 0.44552075 0.44536612 0.44521149\n",
      " 0.44505685 0.44490222 0.44474759 0.44459295 0.44443832 0.44428368\n",
      " 0.44412905 0.44397442 0.44381978 0.44366515 0.44351051 0.44335588\n",
      " 0.44320125 0.44304661 0.44289198 0.44273734 0.44258271 0.44242808\n",
      " 0.44227344 0.44211881 0.44196417 0.44180954 0.44165491 0.44150027\n",
      " 0.44134564 0.441191   0.44103637 0.44088174 0.4407271  0.44057247\n",
      " 0.44041783 0.4402632  0.44010857 0.43995393 0.4397993  0.43964467\n",
      " 0.43949003 0.4393354  0.43918076 0.43902613 0.4388715  0.43871686\n",
      " 0.43856223 0.43840759 0.43825296 0.43809833 0.43794369 0.43778906\n",
      " 0.43763442 0.43747979 0.43732516 0.43717052 0.43701589 0.43686125\n",
      " 0.43670662 0.43655199 0.43639735 0.43624272 0.43608808 0.43593345\n",
      " 0.43577882 0.43562418]\n",
      "          PFHpA\n",
      "K      2.387310\n",
      "1/n    0.450000\n",
      "q      0.438922\n",
      "brk   91.000000\n",
      "AveC   0.023201\n",
      "Running - PFHpA\n",
      "          PFHpA\n",
      "K      6.294245\n",
      "1/n    0.580000\n",
      "q      0.438922\n",
      "brk   91.000000\n",
      "AveC   0.023201\n"
     ]
    },
    {
     "data": {
      "image/png": "[encoded data removed]",
      "text/plain": [
       "<Figure size 640x480 with 1 Axes>"
      ]
     },
     "metadata": {},
     "output_type": "display_data"
    }
   ],
   "source": [
    "## This step can take a few minutes\n",
    "for comp in compounds:\n",
    "    print(comp)\n",
    "    column = PSDM.PSDM(column_info[carbons[0]], \n",
    "                   chem_data, \n",
    "                   raw_data,\n",
    "                   nr=8,\n",
    "                   nz=12, \n",
    "                   #k_data=k_data,\n",
    "                   chem_type=chem_type,\n",
    "                   water_type=water_type,\n",
    "                   optimize=False\n",
    "                   )\n",
    "    \n",
    "    print(column.k_data)\n",
    "\n",
    "    column.test_range = np.array([k_data[comp]['K']])\n",
    "    column.xn_range = np.array([k_data[comp]['1/n']])\n",
    "    \n",
    "    # RUNNING the simulation\n",
    "    # only results is used in this example\n",
    "    _compound, _k, _xn, _ssqs, results = column.run_psdm_kfit(comp)\n",
    "    \n",
    "    # print(results['data'][np.linspace(0,175,36)])\n",
    "    \n",
    "    plt.plot(results.index, \n",
    "             results.values/1000,':',\n",
    "             label=f'True Case: K: {k_data[comp][\"K\"]:,.0f}, 1/n: {k_data[comp][\"1/n\"]}'\n",
    "             )\n",
    "    plt.plot(raw_data.index,\n",
    "             raw_data[column_info[carbons[0]]['influentID']][comp].values/1000,\n",
    "             label='influent',ls=':')\n",
    "    plt.plot(raw_data.index,\n",
    "             raw_data[carbons[0]][comp].values/1000.,\n",
    "             label='effluent', marker='o',ls='--')\n",
    "    \n",
    "    \n",
    "    column.xn_range = np.linspace(.3,.75,19) # increment 0.025\n",
    "    # checks +/- 30% of estimated K (pm=30), \n",
    "    # and scans 1/n space in 0.01 step sizes (des_xn=0.01)\n",
    "    column.run_all_smart(pm=30, des_xn=0.01)\n",
    "    \n",
    "    #Best fit was saved back to column.k_data\n",
    "    print(column.k_data)\n",
    "    \n",
    "    _compound, k, xn, _ssqs, results2 = column.run_psdm_kfit(comp)\n",
    "    \n",
    "    plt.plot(results2.index,\n",
    "             results2.values/1000.,\n",
    "             label='Best Fit')\n",
    "    \n",
    "    \n",
    "    # Plot Labels, etc.\n",
    "    plt.legend()\n",
    "    plt.title(f'{comp}\\nK: {k:,.2f} ($\\mu$g/g)(L/$\\mu$g)$^1$$^/$$^n$ - 1/n: {xn:.3}')\n",
    "    plt.xlabel(f'Time ({column_info.loc[\"time\"].values[0]})')\n",
    "    plt.ylabel('Concentration - mg/L (ppm)')\n",
    "    plt.savefig(comp+'_'+carbons[0]+'_example3.png', dpi=300)\n"
   ]
  },
  {
   "cell_type": "code",
   "execution_count": 5,
   "id": "5271bda1-4693-4746-b5e7-34137a6392bf",
   "metadata": {
    "tags": []
   },
   "outputs": [
    {
     "data": {
      "text/plain": [
       "23"
      ]
     },
     "execution_count": 5,
     "metadata": {},
     "output_type": "execute_result"
    }
   ],
   "source": [
    "column.psdm_teller"
   ]
  },
  {
   "cell_type": "code",
   "execution_count": 6,
   "id": "f4140ce5-00b9-4fa5-a41e-be0c37e09dad",
   "metadata": {
    "tags": []
   },
   "outputs": [
    {
     "data": {
      "text/plain": [
       "PFHpA    5.421448e-20\n",
       "dtype: float64"
      ]
     },
     "execution_count": 6,
     "metadata": {},
     "output_type": "execute_result"
    }
   ],
   "source": [
    "column.psdm_Ds"
   ]
  },
  {
   "cell_type": "code",
   "execution_count": 7,
   "id": "b812da81-3015-4d44-b835-198da49960b4",
   "metadata": {
    "tags": []
   },
   "outputs": [
    {
     "data": {
      "text/html": [
       "<div>\n",
       "<style scoped>\n",
       "    .dataframe tbody tr th:only-of-type {\n",
       "        vertical-align: middle;\n",
       "    }\n",
       "\n",
       "    .dataframe tbody tr th {\n",
       "        vertical-align: top;\n",
       "    }\n",
       "\n",
       "    .dataframe thead th {\n",
       "        text-align: right;\n",
       "    }\n",
       "</style>\n",
       "<table border=\"1\" class=\"dataframe\">\n",
       "  <thead>\n",
       "    <tr style=\"text-align: right;\">\n",
       "      <th></th>\n",
       "      <th>PFHpA</th>\n",
       "    </tr>\n",
       "  </thead>\n",
       "  <tbody>\n",
       "    <tr>\n",
       "      <th>kf</th>\n",
       "      <td>0.0</td>\n",
       "    </tr>\n",
       "    <tr>\n",
       "      <th>dp</th>\n",
       "      <td>0.0</td>\n",
       "    </tr>\n",
       "    <tr>\n",
       "      <th>ds</th>\n",
       "      <td>0.0</td>\n",
       "    </tr>\n",
       "  </tbody>\n",
       "</table>\n",
       "</div>"
      ],
      "text/plain": [
       "    PFHpA\n",
       "kf    0.0\n",
       "dp    0.0\n",
       "ds    0.0"
      ]
     },
     "execution_count": 7,
     "metadata": {},
     "output_type": "execute_result"
    }
   ],
   "source": [
    "column.mass_transfer"
   ]
  },
  {
   "cell_type": "code",
   "execution_count": 18,
   "id": "e090b8c4-5c12-4713-aca5-82dd2b10c3ba",
   "metadata": {
    "tags": []
   },
   "outputs": [
    {
     "data": {
      "text/html": [
       "<div>\n",
       "<style scoped>\n",
       "    .dataframe tbody tr th:only-of-type {\n",
       "        vertical-align: middle;\n",
       "    }\n",
       "\n",
       "    .dataframe tbody tr th {\n",
       "        vertical-align: top;\n",
       "    }\n",
       "\n",
       "    .dataframe thead th {\n",
       "        text-align: right;\n",
       "    }\n",
       "</style>\n",
       "<table border=\"1\" class=\"dataframe\">\n",
       "  <thead>\n",
       "    <tr style=\"text-align: right;\">\n",
       "      <th></th>\n",
       "      <th>PFHpA</th>\n",
       "    </tr>\n",
       "  </thead>\n",
       "  <tbody>\n",
       "    <tr>\n",
       "      <th>MW</th>\n",
       "      <td>364.060</td>\n",
       "    </tr>\n",
       "    <tr>\n",
       "      <th>MolarVol</th>\n",
       "      <td>203.158</td>\n",
       "    </tr>\n",
       "    <tr>\n",
       "      <th>BP</th>\n",
       "      <td>175.000</td>\n",
       "    </tr>\n",
       "    <tr>\n",
       "      <th>Density</th>\n",
       "      <td>1.792</td>\n",
       "    </tr>\n",
       "    <tr>\n",
       "      <th>Solubility</th>\n",
       "      <td>0.000</td>\n",
       "    </tr>\n",
       "    <tr>\n",
       "      <th>VaporPress</th>\n",
       "      <td>0.000</td>\n",
       "    </tr>\n",
       "    <tr>\n",
       "      <th>logKow</th>\n",
       "      <td>1.300</td>\n",
       "    </tr>\n",
       "    <tr>\n",
       "      <th>κ2</th>\n",
       "      <td>5.520</td>\n",
       "    </tr>\n",
       "    <tr>\n",
       "      <th>Nam</th>\n",
       "      <td>0.000</td>\n",
       "    </tr>\n",
       "    <tr>\n",
       "      <th>α</th>\n",
       "      <td>13.830</td>\n",
       "    </tr>\n",
       "    <tr>\n",
       "      <th>Dz(hybrid)</th>\n",
       "      <td>0.001</td>\n",
       "    </tr>\n",
       "  </tbody>\n",
       "</table>\n",
       "</div>"
      ],
      "text/plain": [
       "              PFHpA\n",
       "MW          364.060\n",
       "MolarVol    203.158\n",
       "BP          175.000\n",
       "Density       1.792\n",
       "Solubility    0.000\n",
       "VaporPress    0.000\n",
       "logKow        1.300\n",
       "κ2            5.520\n",
       "Nam           0.000\n",
       "α            13.830\n",
       "Dz(hybrid)    0.001"
      ]
     },
     "execution_count": 18,
     "metadata": {},
     "output_type": "execute_result"
    }
   ],
   "source": [
    "chem_data"
   ]
  },
  {
   "cell_type": "code",
   "execution_count": 9,
   "id": "85b3d7fc-3805-4276-a3ef-b46d6f628bbb",
   "metadata": {
    "tags": []
   },
   "outputs": [
    {
     "data": {
      "text/plain": [
       "PFHpA    13.83\n",
       "Name: α, dtype: float64"
      ]
     },
     "execution_count": 9,
     "metadata": {},
     "output_type": "execute_result"
    }
   ],
   "source": [
    "chem_data.loc['α']"
   ]
  },
  {
   "cell_type": "code",
   "execution_count": 16,
   "id": "25f6bd62-a2dd-46d1-a22e-f2127ac9806e",
   "metadata": {
    "tags": []
   },
   "outputs": [
    {
     "data": {
      "text/plain": [
       "0.9982589737767772"
      ]
     },
     "execution_count": 16,
     "metadata": {},
     "output_type": "execute_result"
    }
   ],
   "source": [
    "column.dw"
   ]
  },
  {
   "cell_type": "code",
   "execution_count": 19,
   "id": "54ee95df-c531-4d6e-b20c-a53564d4709b",
   "metadata": {
    "tags": []
   },
   "outputs": [
    {
     "data": {
      "text/plain": [
       "1.0"
      ]
     },
     "execution_count": 19,
     "metadata": {},
     "output_type": "execute_result"
    }
   ],
   "source": [
    "column.tortu"
   ]
  },
  {
   "cell_type": "markdown",
   "id": "22893ba3-47fc-444d-b111-40ecb949bfa8",
   "metadata": {},
   "source": [
    "# ALTERNATE OPTIMIZER\n",
    "Depending on selections this can take 1+ hours per compound !!!!\n",
    "\n",
    "Instead of:\n",
    "\n",
    "column.xn_range = np.linspace(.3,.75,19) # increments by 0.025\n",
    "\n",
    "column.run_all_smart(pm=30, des_xn=0.01)\n",
    "            \n",
    "            checks +/- 30% of estimated K (pm=30), \n",
    "            and scans 1/n space in 0.01 step sizes (des_xn=0.01)\n",
    "\n",
    "in previous snippet.\n",
    "\n",
    "Use:\n",
    "\n",
    "column.xn_range = np.linspace(0.3, 0.75, 46) \n",
    "\n",
    "            46 = interval 0.01 (19 is 0.025, for 0.3-0.75)\n",
    "            \n",
    "column.test_range = np.linspace(1, 5, 41)\n",
    "\n",
    "            41 gives you 0.1 increment on K_multiplier\n",
    "            K would not be expected to be lower than 1, but upper \n",
    "            bound of 3 to 4 may be sufficient to capture any real \n",
    "            values\n",
    "    \n",
    "Then include:\n",
    "\n",
    "column.run_all()\n",
    "        \n",
    "        or\n",
    "\n",
    "column.run_all(optimize='brute') #run only this line or the line above, not both\n",
    "\n",
    "best fits are again stored back to 'column.k_data'\n",
    "\n",
    "    \n",
    "run_all() by default uses a multi-staged brute force approach. This subdivides the space into coarse grids, and performs a series of refining steps. \n",
    "\n",
    "'optimizer=brute' searches every combination of xn_range and test_range, while the default 'staged' behavior attempts to quickly locate the minimum by taking a coarser search while seeking the minimum. \n",
    "    \n",
    "including 'optimize=brute' could be used after run_all_smart() or the staged approach to ensure that the K & 1/n values around a minimum were thoroughly searched.\n",
    "    \n",
    "## Performance: \n",
    "                brute (1+ hours per compound)\n",
    "                staged (~5-10+ minutes per compound, depending on complexity)\n",
    "                using run_all_smart (~2-15 minutes per compound)\n",
    "  \n",
    "\n",
    "\n",
    "# Final Notes: \n",
    "If you got this far, you may be interested in using this for \n",
    "larger datasets. In the above examples, each of the examples is set up\n",
    "for looped execution. If you provide datasets with more than one compound\n",
    "in the data sheet (and associated properties) then this will loop over each\n",
    "compound individually.\n"
   ]
  }
 ],
 "metadata": {
  "kernelspec": {
   "display_name": "Python 3 (ipykernel)",
   "language": "python",
   "name": "python3"
  },
  "language_info": {
   "codemirror_mode": {
    "name": "ipython",
    "version": 3
   },
   "file_extension": ".py",
   "mimetype": "text/x-python",
   "name": "python",
   "nbconvert_exporter": "python",
   "pygments_lexer": "ipython3",
   "version": "3.11.5"
  }
 },
 "nbformat": 4,
 "nbformat_minor": 5
}
