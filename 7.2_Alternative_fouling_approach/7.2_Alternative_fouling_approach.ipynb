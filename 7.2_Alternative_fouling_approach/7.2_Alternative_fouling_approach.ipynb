{
 "cells": [
  {
   "cell_type": "markdown",
   "id": "50ed16ac-f34f-455e-8ad5-9cd320db3308",
   "metadata": {
    "tags": []
   },
   "source": [
    "# Pore and Surface Diffusion Model (PSDM)\n",
    "\n",
    "Originally developed by Michigan Technological University, coded in Python by USEPA\n",
    "\n",
    "This can be used to model granular activated carbon (GAC) systems.\n",
    "\n",
    "#  7.2 Alternative fouling approach\n",
    "\n",
    "author: Jonathan Burkhardt @UCChEJBB,\n",
    "         Levi Haupert\n",
    "         \n",
    "PFHpA data from article: \n",
    "\n",
    "*Modeling PFAS Removal Using Granular Activated Carbon for Full-Scale System Design*\n",
    "         \n",
    "edit: Mathieu Coghe, highlighted by *//Mathieu* (Ctrl+F)"
   ]
  },
  {
   "cell_type": "code",
   "execution_count": 1,
   "id": "57c9e228-7344-45ec-87c2-21a54dfec490",
   "metadata": {
    "tags": []
   },
   "outputs": [
    {
     "name": "stdout",
     "output_type": "stream",
     "text": [
      "//Mathieu: self calculated b1 =  PFHpA    0.43565\n",
      "dtype: float64\n",
      "//Mathieu: self calculated b2 =  PFHpA    0.360309\n",
      "dtype: float64\n"
     ]
    }
   ],
   "source": [
    "## Import Required Packages\n",
    "import warnings\n",
    "warnings.simplefilter(\"ignore\")\n",
    "\n",
    "import numpy as np\n",
    "import pandas as pd\n",
    "import pylab as plt\n",
    "\n",
    "import os\n",
    "srt_dir = os.getcwd()\n",
    "\n",
    "import PSDM\n",
    "os.chdir(srt_dir)"
   ]
  },
  {
   "cell_type": "code",
   "execution_count": 2,
   "id": "e116ffb6-b910-4a27-bc2d-1635444b9e59",
   "metadata": {
    "tags": []
   },
   "outputs": [],
   "source": [
    "fn = '7.2_Input_PFHpA.xlsx'\n",
    "\n",
    "chem_data = PSDM.process_input_data(fn, sheet_name='Properties') \n",
    "k_data = pd.read_excel(fn, sheet_name='Kdata',index_col=0) # K & 1/n data\n",
    "\n",
    "raw_data, column_info,\\\n",
    "compounds, carbons, = PSDM.process_input_file(fn,\\\n",
    "                                               data_sheet='data',\\\n",
    "                                               column_sheet='columnSpecs'\n",
    "                                              )"
   ]
  },
  {
   "cell_type": "code",
   "execution_count": 3,
   "id": "c2ba1f5b-b5ae-4e16-b74b-a8ebb5b2bca9",
   "metadata": {
    "tags": []
   },
   "outputs": [],
   "source": [
    "raw_data, column_info,\\\n",
    "compounds, carbons, = PSDM.process_input_file(fn,\\\n",
    "                                               data_sheet='data_variable',\\\n",
    "                                               column_sheet='columnSpecs'\n",
    "                                              )\n",
    "## User can look at raw_data to see new variable influent, or \n",
    "## see \"data_variable\" sheet\n"
   ]
  },
  {
   "cell_type": "markdown",
   "id": "15832054-5455-4976-854e-9827daf95a3f",
   "metadata": {},
   "source": [
    "Edits are made in *PSDM.py* highlighted by *//Mathieu* (Ctrl+F)\n",
    "- Additional equation for bed weight reduction\n",
    "- Make sure that K is not reduced if alternative fouling is desired (use default from *PSDM_functions.py*)\n",
    "\n",
    "Below: insert % bed weight reduction"
   ]
  },
  {
   "cell_type": "code",
   "execution_count": 4,
   "id": "fe83de48-85ce-445a-9b96-dc17ca5edffd",
   "metadata": {
    "tags": []
   },
   "outputs": [
    {
     "name": "stdout",
     "output_type": "stream",
     "text": [
      "PFHpA\n",
      "//Mathieu self.chem_type:  halogenated alkenes\n",
      "//Mathieu: fouling parameters:\n",
      "a1:  1.0\n",
      "a2:  0.0\n",
      "a3:  0.0\n",
      "a4:  0.0\n",
      "b1:  PFHpA    1.0\n",
      "dtype: float64\n",
      "b2:  PFHpA    0.0\n",
      "dtype: float64\n",
      "rk1:  PFHpA    1.0\n",
      "dtype: float64\n",
      "rk2:  PFHpA    0.0\n",
      "dtype: float64\n",
      "rk3:  PFHpA    0.0\n",
      "dtype: float64\n",
      "rk4:  PFHpA    0.0\n",
      "dtype: float64\n",
      "//Mathieu: k_mult_pd:  [1. 1. 1. 1. 1.]  ...\n",
      "EBCT:  9.88  min\n",
      "//Mathieu self.chem_type:  PFAS\n",
      "//Mathieu: fouling parameters:\n",
      "a1:  0.35\n",
      "a2:  -6.15e-08\n",
      "a3:  0.65\n",
      "a4:  -8.93e-05\n",
      "b1:  PFHpA    0.43565\n",
      "dtype: float64\n",
      "b2:  PFHpA    0.360309\n",
      "dtype: float64\n",
      "rk1:  PFHpA    0.512787\n",
      "dtype: float64\n",
      "rk2:  PFHpA   -2.679248e-08\n",
      "dtype: float64\n",
      "rk3:  PFHpA    0.283173\n",
      "dtype: float64\n",
      "rk4:  PFHpA   -0.000039\n",
      "dtype: float64\n",
      "//Mathieu: k_mult_pd:  [0.79595906 0.73885526 0.69320457 0.65670365 0.62751237]  ...\n",
      "//Mathieu self.chem_type:  Fouling alternative (15%)\n",
      "//Mathieu: % bed weight reduction:  15\n",
      "//Mathieu: you want alternative fouling calculation:\n",
      "//Mathieu: fouling parameters:\n",
      "a1:  1.0\n",
      "a2:  0.0\n",
      "a3:  0.0\n",
      "a4:  0.0\n",
      "b1:  PFHpA    1.0\n",
      "dtype: float64\n",
      "b2:  PFHpA    0.0\n",
      "dtype: float64\n",
      "rk1:  PFHpA    1.0\n",
      "dtype: float64\n",
      "rk2:  PFHpA    0.0\n",
      "dtype: float64\n",
      "rk3:  PFHpA    0.0\n",
      "dtype: float64\n",
      "rk4:  PFHpA    0.0\n",
      "dtype: float64\n",
      "//Mathieu: k_mult_pd:  [1. 1. 1. 1. 1.]  ...\n"
     ]
    },
    {
     "data": {
      "image/png": "[encoded data removed]",
      "text/plain": [
       "<Figure size 640x480 with 1 Axes>"
      ]
     },
     "metadata": {},
     "output_type": "display_data"
    },
    {
     "data": {
      "image/png": "[encoded data removed]",
      "text/plain": [
       "<Figure size 640x480 with 1 Axes>"
      ]
     },
     "metadata": {},
     "output_type": "display_data"
    }
   ],
   "source": [
    "#//Mathieu: alternative fouling calculation:\n",
    "chem_type1 = 'PFAS'\n",
    "water_type1 = 'Rhine'\n",
    "\n",
    "chem_type2 = 'Fouling alternative (15%)'\n",
    "water_type2 = 'Fouling alternative (15%)'\n",
    "\n",
    "#note additional inputs in definition of column, below.\n",
    "\n",
    "for comp in compounds:\n",
    "    print(comp)\n",
    "    \n",
    "    # SETTING UP PSDM simulation column\n",
    "    column = PSDM.PSDM(column_info[carbons[0]], \n",
    "                   chem_data, \n",
    "                   raw_data,\n",
    "                   nr=8,\n",
    "                   nz=12, \n",
    "                   k_data=k_data,\n",
    "                   optimize=False\n",
    "                   )\n",
    "    \n",
    "    print('EBCT: ', round(column.ebct, 2), ' min') \n",
    "    column.test_range = np.array([k_data[comp]['K']])\n",
    "    column.xn_range = np.array([k_data[comp]['1/n']])\n",
    "    \n",
    "    # RUNNING the simulation\n",
    "    #only results is used in this example\n",
    "    _compound, _k, _xn, _ssqs, results = column.run_psdm_kfit(comp)\n",
    "    \n",
    "    column2 = PSDM.PSDM(column_info[carbons[0]], \n",
    "                   chem_data, \n",
    "                   raw_data,\n",
    "                   nr=8,\n",
    "                   nz=12, \n",
    "                   k_data=k_data,\n",
    "                   chem_type=chem_type1,\n",
    "                   water_type=water_type1,\n",
    "                   optimize=False\n",
    "                   )\n",
    "    \n",
    "    column2.test_range = np.array([k_data[comp]['K']])\n",
    "    column2.xn_range = np.array([k_data[comp]['1/n']])\n",
    "    \n",
    "    # RUNNING the simulation\n",
    "    #only results is used in this example\n",
    "    _compound, _k, _xn, _ssqs, results2 = column2.run_psdm_kfit(comp)\n",
    "    \n",
    "    column3 = PSDM.PSDM(column_info[carbons[0]], \n",
    "                   chem_data, \n",
    "                   raw_data,\n",
    "                   nr=8,\n",
    "                   nz=12, \n",
    "                   k_data=k_data,\n",
    "                   chem_type=chem_type2,\n",
    "                   water_type=water_type2,\n",
    "                   optimize=False\n",
    "                   )\n",
    "    \n",
    "    column3.test_range = np.array([k_data[comp]['K']])\n",
    "    column3.xn_range = np.array([k_data[comp]['1/n']])\n",
    "    \n",
    "    # RUNNING the simulation\n",
    "    #only results is used in this example\n",
    "    _compound, _k, _xn, _ssqs, results3 = column3.run_psdm_kfit(comp)    \n",
    "    \n",
    "    ## plotting results \n",
    "    #units are converted from ug/L to mg/L \n",
    "    plt.plot(results.index, \n",
    "             results.values/1000., \n",
    "             label='PSDM-No fouling')\n",
    "    plt.plot(results2.index, \n",
    "             results2.values/1000., \n",
    "             label='PSDM-With fouling ('+water_type1+')')\n",
    "    plt.plot(results3.index, \n",
    "             results3.values/1000., \n",
    "             label='PSDM-'+water_type2,\n",
    "             color='red')    \n",
    "    (raw_data[column.influent][comp]/1000.).plot.line(label='Influent',linestyle=':',color='green')\n",
    "    \n",
    "    # Plot Labels, etc.\n",
    "    plt.legend()\n",
    "    plt.title(comp+'\\nK: '+repr(round(_k,2))+' ($\\mu$g/g)(L/$\\mu$g)$^{1/n}$ - 1/n: '+repr(round(_xn,3)))\n",
    "    plt.xlabel(column_info[carbons[0]]['time'])\n",
    "    plt.ylabel('Concentration - mg/L (ppm)')\n",
    "    plt.savefig(comp+'_'+carbons[0]+'_example2.png', dpi=300)\n",
    "    plt.show\n",
    "    \n",
    "    plt.figure()\n",
    "    plt.plot(column.K_time, \n",
    "             column.K_new_time, \n",
    "             label='No fouling',\n",
    "             linewidth=4)\n",
    "    plt.plot(column2.K_time, \n",
    "             column2.K_new_time,\n",
    "             label='With fouling ('+water_type1+')',\n",
    "             color='darkorange')    \n",
    "    plt.plot(column3.K_time, \n",
    "             column3.K_new_time,\n",
    "             label=water_type2,\n",
    "             color='red')\n",
    "    \n",
    "    plt.legend()\n",
    "    plt.title('Freundlich K reduction as a function of time')  # Title of the plot\n",
    "    plt.xlabel('Time')  # Label for the x-axis\n",
    "    plt.ylabel('Freundlich K reduciton (Kt/K0)')  # Label for the y-axis    \n",
    "    plt.grid(False)  # Disable grid\n",
    "    plt.show()  # Display the plot    \n",
    "    \n",
    "    tab2 = 'model-'+comp\n",
    "    \n",
    "    with pd.ExcelWriter('Example_TCE_' + carbons[0] + '_example2.xlsx') as writer:\n",
    "        results.to_excel(writer, sheet_name=tab2)\n",
    "\n"
   ]
  },
  {
   "cell_type": "code",
   "execution_count": 5,
   "id": "1e00d9b6-64e6-4341-b3ac-a7e65c66b398",
   "metadata": {
    "tags": []
   },
   "outputs": [
    {
     "data": {
      "text/plain": [
       "('halogenated alkenes', 'PFAS', 'halogenated alkenes')"
      ]
     },
     "execution_count": 5,
     "metadata": {},
     "output_type": "execute_result"
    }
   ],
   "source": [
    "column.chem_type,column2.chem_type,column3.chem_type"
   ]
  },
  {
   "cell_type": "code",
   "execution_count": 6,
   "id": "15189514-2041-48d4-9661-c8cc7f7146fb",
   "metadata": {
    "tags": []
   },
   "outputs": [
    {
     "data": {
      "text/plain": [
       "(4349.9508283000005, 4349.9508283000005, 3697.4582040550004)"
      ]
     },
     "execution_count": 6,
     "metadata": {},
     "output_type": "execute_result"
    }
   ],
   "source": [
    "column.wt,column2.wt,column3.wt"
   ]
  },
  {
   "cell_type": "code",
   "execution_count": 7,
   "id": "bb204afe-e0bd-4376-b343-6bebd3208dec",
   "metadata": {
    "tags": []
   },
   "outputs": [
    {
     "name": "stdout",
     "output_type": "stream",
     "text": [
      "123\n"
     ]
    }
   ],
   "source": [
    "#Help of ChatGPT on how to extract number (see PSDM.py)\n",
    "\n",
    "import re\n",
    "\n",
    "# Example string\n",
    "s = \"There are 123% apples in the basket.\"\n",
    "\n",
    "# Regular expression to find numbers\n",
    "numbers = re.findall(r'\\d+', s)\n",
    "\n",
    "# Convert the first extracted number from string to integer\n",
    "if numbers:\n",
    "    number = int(numbers[0])\n",
    "    print(number)"
   ]
  },
  {
   "cell_type": "code",
   "execution_count": 8,
   "id": "01fd3899-5559-4d42-9ad8-7bb70f3140a3",
   "metadata": {
    "tags": []
   },
   "outputs": [
    {
     "data": {
      "text/html": [
       "<div>\n",
       "<style scoped>\n",
       "    .dataframe tbody tr th:only-of-type {\n",
       "        vertical-align: middle;\n",
       "    }\n",
       "\n",
       "    .dataframe tbody tr th {\n",
       "        vertical-align: top;\n",
       "    }\n",
       "\n",
       "    .dataframe thead th {\n",
       "        text-align: right;\n",
       "    }\n",
       "</style>\n",
       "<table border=\"1\" class=\"dataframe\">\n",
       "  <thead>\n",
       "    <tr style=\"text-align: right;\">\n",
       "      <th></th>\n",
       "      <th>F400</th>\n",
       "    </tr>\n",
       "  </thead>\n",
       "  <tbody>\n",
       "    <tr>\n",
       "      <th>rad</th>\n",
       "      <td>0.0513</td>\n",
       "    </tr>\n",
       "    <tr>\n",
       "      <th>flrt</th>\n",
       "      <td>984.207064</td>\n",
       "    </tr>\n",
       "    <tr>\n",
       "      <th>epor</th>\n",
       "      <td>0.641</td>\n",
       "    </tr>\n",
       "    <tr>\n",
       "      <th>psdfr</th>\n",
       "      <td>5.0</td>\n",
       "    </tr>\n",
       "    <tr>\n",
       "      <th>rhop</th>\n",
       "      <td>0.803</td>\n",
       "    </tr>\n",
       "    <tr>\n",
       "      <th>rhof</th>\n",
       "      <td>0.62</td>\n",
       "    </tr>\n",
       "    <tr>\n",
       "      <th>L</th>\n",
       "      <td>120.0</td>\n",
       "    </tr>\n",
       "    <tr>\n",
       "      <th>wt</th>\n",
       "      <td>4349.950828</td>\n",
       "    </tr>\n",
       "    <tr>\n",
       "      <th>diam</th>\n",
       "      <td>10.155936</td>\n",
       "    </tr>\n",
       "    <tr>\n",
       "      <th>tortu</th>\n",
       "      <td>1.0</td>\n",
       "    </tr>\n",
       "    <tr>\n",
       "      <th>influentID</th>\n",
       "      <td>influent</td>\n",
       "    </tr>\n",
       "    <tr>\n",
       "      <th>effluentID</th>\n",
       "      <td>effluent</td>\n",
       "    </tr>\n",
       "    <tr>\n",
       "      <th>units</th>\n",
       "      <td>ug</td>\n",
       "    </tr>\n",
       "    <tr>\n",
       "      <th>time</th>\n",
       "      <td>days</td>\n",
       "    </tr>\n",
       "    <tr>\n",
       "      <th>mass_mul</th>\n",
       "      <td>1.0</td>\n",
       "    </tr>\n",
       "    <tr>\n",
       "      <th>t_mult</th>\n",
       "      <td>1440</td>\n",
       "    </tr>\n",
       "    <tr>\n",
       "      <th>flow_mult</th>\n",
       "      <td>0.001</td>\n",
       "    </tr>\n",
       "    <tr>\n",
       "      <th>flow_type</th>\n",
       "      <td>ml</td>\n",
       "    </tr>\n",
       "  </tbody>\n",
       "</table>\n",
       "</div>"
      ],
      "text/plain": [
       "                   F400\n",
       "rad              0.0513\n",
       "flrt         984.207064\n",
       "epor              0.641\n",
       "psdfr               5.0\n",
       "rhop              0.803\n",
       "rhof               0.62\n",
       "L                 120.0\n",
       "wt          4349.950828\n",
       "diam          10.155936\n",
       "tortu               1.0\n",
       "influentID     influent\n",
       "effluentID     effluent\n",
       "units                ug\n",
       "time               days\n",
       "mass_mul            1.0\n",
       "t_mult             1440\n",
       "flow_mult         0.001\n",
       "flow_type            ml"
      ]
     },
     "execution_count": 8,
     "metadata": {},
     "output_type": "execute_result"
    }
   ],
   "source": [
    "column_info"
   ]
  },
  {
   "cell_type": "code",
   "execution_count": null,
   "id": "a664034d-0998-477d-9da3-8224a1bf9e12",
   "metadata": {},
   "outputs": [],
   "source": []
  }
 ],
 "metadata": {
  "kernelspec": {
   "display_name": "Python 3 (ipykernel)",
   "language": "python",
   "name": "python3"
  },
  "language_info": {
   "codemirror_mode": {
    "name": "ipython",
    "version": 3
   },
   "file_extension": ".py",
   "mimetype": "text/x-python",
   "name": "python",
   "nbconvert_exporter": "python",
   "pygments_lexer": "ipython3",
   "version": "3.11.5"
  }
 },
 "nbformat": 4,
 "nbformat_minor": 5
}
